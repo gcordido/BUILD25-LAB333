{
 "cells": [
  {
   "cell_type": "markdown",
   "id": "6b4e9dd0",
   "metadata": {},
   "source": [
    "# Validate Azure Open AI Setup\n",
    "\n",
    "This notebook guides you through validating your Azure OpenAI environment. The sections below:\n",
    "\n",
    "- **Install Required Packages:** Ensure all necessary Python packages are installed for Azure OpenAI and environment management.\n",
    "- **Check Environment Variables:** Verify that all required Azure and OpenAI environment variables are set for secure and successful API access.\n",
    "- **Utility Functions:** Provide helper functions for pretty-printing token usage and content filter results from API responses.\n",
    "- **Initialize AzureOpenAI Client:** Set up the AzureOpenAI client using your environment variables for authenticated API calls.\n",
    "- **Run Sample Queries:** Demonstrate how to send test prompts to your Azure OpenAI deployment and display the results, confirming your setup is working correctly."
   ]
  },
  {
   "cell_type": "markdown",
   "id": "700ec59e",
   "metadata": {},
   "source": [
    "---\n",
    "\n",
    "## 1. Install Python Dependencies"
   ]
  },
  {
   "cell_type": "code",
   "execution_count": 3,
   "id": "ebfed1e1",
   "metadata": {},
   "outputs": [],
   "source": [
    "# Install Required Packages\n",
    "!pip install -q openai azure-identity python-dotenv --quiet\n",
    "\n",
    "# You may need to updated your OpenAI Python library\n",
    "!pip install openai --upgrade --quiet"
   ]
  },
  {
   "cell_type": "markdown",
   "id": "4ca13c69",
   "metadata": {},
   "source": [
    "---\n",
    "\n",
    "## 2. Check Environment Variables\n"
   ]
  },
  {
   "cell_type": "code",
   "execution_count": 4,
   "id": "d150ad95",
   "metadata": {},
   "outputs": [
    {
     "name": "stdout",
     "output_type": "stream",
     "text": [
      "✅ Environment looks good: All variables are set.\n"
     ]
    }
   ],
   "source": [
    "# Check that required environment variables are set\n",
    "import os\n",
    "from dotenv import load_dotenv\n",
    "load_dotenv()\n",
    "\n",
    "missing = []\n",
    "required = [\"AZURE_OPENAI_KEY\", \"AZURE_OPENAI_ENDPOINT\",\n",
    "            \"AZURE_INFERENCE_ENDPOINT\", \"AZURE_AI_CONNECTION\", \"AZURE_OPENAI_API_VERSION\",\n",
    "            \"GENERAL_PURPOSE\", \"REASONING_OLD\", \"REASONING_NEW\",]\n",
    "for var in required:\n",
    "    if not os.getenv(var):\n",
    "        missing.append(var)\n",
    "if missing:\n",
    "    raise ValueError(f\"❌ Missing env vars: {missing}. Add them to .env.\")\n",
    "\n",
    "print(\"✅ Environment looks good: All variables are set.\")"
   ]
  },
  {
   "cell_type": "markdown",
   "id": "2823aab0",
   "metadata": {},
   "source": [
    "---\n",
    "\n",
    "## 3. Utility Function: Print Stats"
   ]
  },
  {
   "cell_type": "code",
   "execution_count": 5,
   "id": "5cf2fdcd",
   "metadata": {},
   "outputs": [],
   "source": [
    "# Pretty print some information\n",
    "\n",
    "def print_token_and_filter_info(r):\n",
    "\n",
    "    # Print token usage\n",
    "    print(\".........................\")\n",
    "    print(\"Token Costs:\")\n",
    "    print(f\"Total Tokens: {r.usage.total_tokens}\")\n",
    "    print(f\"Prompt Tokens: {r.usage.prompt_tokens}\")\n",
    "    print(f\"Completion Tokens: {r.usage.completion_tokens}\")\n",
    "    print(f\"Reasoning Tokens: {r.usage.completion_tokens_details.reasoning_tokens}\")\n",
    "    print(f\"Output Tokens: {r.usage.total_tokens - r.usage.completion_tokens_details.reasoning_tokens}\")\n",
    "    print(\".........................\")\n",
    "\n",
    "    # Print content filter results\n",
    "    # Print content filter results\n",
    "    print(\"Content Filter Results:\")\n",
    "    filter_results = getattr(r.choices[0], \"content_filter_results\", None)\n",
    "    if filter_results is not None:\n",
    "        for k, v in filter_results.items():\n",
    "            print(f\"{k}: {v}\")\n",
    "    else:\n",
    "        print(\"No content filter results available.\")\n",
    "    print(\".........................\")"
   ]
  },
  {
   "cell_type": "markdown",
   "id": "7f658342",
   "metadata": {},
   "source": [
    "---\n",
    "\n",
    "## 4. Utility Function\" Call Chat Completion"
   ]
  },
  {
   "cell_type": "code",
   "execution_count": 6,
   "id": "9098ca2a",
   "metadata": {},
   "outputs": [],
   "source": [
    "from openai import AzureOpenAI\n",
    "client = AzureOpenAI(\n",
    "    api_key=os.environ[\"AZURE_OPENAI_KEY\"],\n",
    "    azure_endpoint=os.environ[\"AZURE_OPENAI_ENDPOINT\"],\n",
    "    api_version=os.environ[\"AZURE_OPENAI_API_VERSION\"],\n",
    ")\n",
    "\n",
    "def chat(model:str, prompt:str=\"Hello!\", **kwargs):\n",
    "    r = client.chat.completions.create(\n",
    "        model=model,\n",
    "        messages=[{\"role\":\"user\",\"content\":prompt}],\n",
    "        **kwargs\n",
    "    )\n",
    "    print(f\"🗣️ {model} returned:\")\n",
    "    print(r.choices[0].message.content)\n",
    "\n",
    "    # pretty print stats\n",
    "    print_token_and_filter_info(r)\n",
    "    return r\n"
   ]
  },
  {
   "cell_type": "markdown",
   "id": "6187fd8d",
   "metadata": {},
   "source": [
    "---\n",
    "\n",
    "## 5. Test with General Purpose Model\n",
    "\n",
    "- Observe the time taken to execute the call.\n",
    "- Note the accuracy of the response\n",
    "- Note the Total tokens used\n",
    "- Note the Reasoning token contribution to this"
   ]
  },
  {
   "cell_type": "code",
   "execution_count": 7,
   "id": "f3cf55cb",
   "metadata": {},
   "outputs": [
    {
     "name": "stdout",
     "output_type": "stream",
     "text": [
      "🗣️ gpt-4o-mini returned:\n",
      "There are three 'r's in the word \"strawberry.\"\n",
      ".........................\n",
      "Token Costs:\n",
      "Total Tokens: 29\n",
      "Prompt Tokens: 14\n",
      "Completion Tokens: 15\n",
      "Reasoning Tokens: 0\n",
      "Output Tokens: 29\n",
      ".........................\n",
      "Content Filter Results:\n",
      "hate: {'filtered': False, 'severity': 'safe'}\n",
      "protected_material_code: {'filtered': False, 'detected': False}\n",
      "protected_material_text: {'filtered': False, 'detected': False}\n",
      "self_harm: {'filtered': False, 'severity': 'safe'}\n",
      "sexual: {'filtered': False, 'severity': 'safe'}\n",
      "violence: {'filtered': False, 'severity': 'safe'}\n",
      ".........................\n"
     ]
    }
   ],
   "source": [
    "response = chat(os.getenv(\"GENERAL_PURPOSE\"), \"How many r's in strawberry?\")"
   ]
  },
  {
   "cell_type": "markdown",
   "id": "44b08225",
   "metadata": {},
   "source": [
    "---\n",
    "\n",
    "## 6. Test With Reasoning Model (old)\n",
    "\n",
    "- Observe the time taken to execute the call.\n",
    "- Note the accuracy of the response\n",
    "- Note the Total tokens used\n",
    "- Note the Reasoning token contribution to this\n",
    "- **How does this compare to the GPT model?**"
   ]
  },
  {
   "cell_type": "code",
   "execution_count": 8,
   "id": "e3fc9a44",
   "metadata": {},
   "outputs": [
    {
     "name": "stdout",
     "output_type": "stream",
     "text": [
      "🗣️ o1 returned:\n",
      "There are three “r”s in “strawberry.”\n",
      ".........................\n",
      "Token Costs:\n",
      "Total Tokens: 165\n",
      "Prompt Tokens: 13\n",
      "Completion Tokens: 152\n",
      "Reasoning Tokens: 128\n",
      "Output Tokens: 37\n",
      ".........................\n",
      "Content Filter Results:\n",
      "hate: {'filtered': False, 'severity': 'safe'}\n",
      "protected_material_code: {'filtered': False, 'detected': False}\n",
      "protected_material_text: {'filtered': False, 'detected': False}\n",
      "self_harm: {'filtered': False, 'severity': 'safe'}\n",
      "sexual: {'filtered': False, 'severity': 'safe'}\n",
      "violence: {'filtered': False, 'severity': 'safe'}\n",
      ".........................\n"
     ]
    }
   ],
   "source": [
    "response = chat(os.getenv(\"REASONING_OLD\"), \"How many r's in strawberry?\")"
   ]
  },
  {
   "cell_type": "markdown",
   "id": "dc543b5b",
   "metadata": {},
   "source": [
    "---\n",
    "\n",
    "## 7. Test with Reasoning Model (new)\n",
    "\n",
    "- Observe the time taken to execute the call.\n",
    "- Note the accuracy of the response\n",
    "- Note the Total tokens used\n",
    "- Note the Reasoning token contribution to this\n",
    "- **How does this compare to the GPT and older Reasoning models?**"
   ]
  },
  {
   "cell_type": "code",
   "execution_count": 9,
   "id": "575c9e54",
   "metadata": {},
   "outputs": [
    {
     "name": "stdout",
     "output_type": "stream",
     "text": [
      "🗣️ o4-mini returned:\n",
      "The word “strawberry” contains three “r” letters.\n",
      ".........................\n",
      "Token Costs:\n",
      "Total Tokens: 238\n",
      "Prompt Tokens: 13\n",
      "Completion Tokens: 225\n",
      "Reasoning Tokens: 192\n",
      "Output Tokens: 46\n",
      ".........................\n",
      "Content Filter Results:\n",
      "hate: {'filtered': False, 'severity': 'safe'}\n",
      "protected_material_code: {'filtered': False, 'detected': False}\n",
      "protected_material_text: {'filtered': False, 'detected': False}\n",
      "self_harm: {'filtered': False, 'severity': 'safe'}\n",
      "sexual: {'filtered': False, 'severity': 'safe'}\n",
      "violence: {'filtered': False, 'severity': 'safe'}\n",
      ".........................\n"
     ]
    }
   ],
   "source": [
    "response = chat(os.getenv(\"REASONING_NEW\"), \"How many r's in strawberry?\")"
   ]
  },
  {
   "cell_type": "markdown",
   "id": "207f2213",
   "metadata": {},
   "source": [
    "---\n",
    "\n",
    "# Congratulations\n",
    "\n",
    "You're all set for the labs."
   ]
  }
 ],
 "metadata": {
  "kernelspec": {
   "display_name": "Python 3",
   "language": "python",
   "name": "python3"
  },
  "language_info": {
   "codemirror_mode": {
    "name": "ipython",
    "version": 3
   },
   "file_extension": ".py",
   "mimetype": "text/x-python",
   "name": "python",
   "nbconvert_exporter": "python",
   "pygments_lexer": "ipython3",
   "version": "3.12.10"
  }
 },
 "nbformat": 4,
 "nbformat_minor": 5
}
