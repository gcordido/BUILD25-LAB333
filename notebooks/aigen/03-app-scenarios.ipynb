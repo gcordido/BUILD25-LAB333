{
 "cells": [
  {
   "cell_type": "markdown",
   "id": "37531148",
   "metadata": {},
   "source": [
    "# Notebook 3: Application Scenarios – Good vs Bad Prompts  \n",
    "![Thumbs Up Down](https://source.unsplash.com/featured/?thumbs,up)\n",
    "\n"
   ]
  },
  {
   "cell_type": "markdown",
   "id": "77de9135",
   "metadata": {},
   "source": [
    "## ✅ Good Reasoning Prompts\n",
    "| Prompt | Domain / Task | Why it’s good for reasoning |\n",
    "|---|---|---|\n",
    "| Deduce the guilty suspect given these alibis → {JSON} | Logic Puzzle | Requires multi‑hop deduction, structured output |\n",
    "| Plan a 3‑day city tour maximizing museum time and minimizing walking. | Route Planning | Constrained optimization with trade‑offs |\n",
    "| Translate LaTeX math proofs to step‑annotated English. | Math Explanation | Maintains invariants across steps |\n",
    "| Given symptoms list, output differential diagnosis ranked by probability. | Medical Reasoning | Probabilistic ranking |\n",
    "| Draft SQL queries to satisfy the given business metrics. | Data Query Generation | Requires schema reasoning |\n",
    "| Classify legal clauses by risk and reference precedent. | Legal Analysis | Needs textual entailment reasoning |\n",
    "| Explain chess move sequence and predict opponent response. | Game Strategy | Tree search reasoning |\n",
    "| Detect fallacies in this argument and label them. | Critical Thinking | Logical fallacy recognition |\n",
    "| Generate unit tests from function signature and docstring. | Software QA | Requires path reasoning |\n",
    "| Convert cooking recipe into grocery list with quantities per 8 guests. | Scaling Recipes | Arithmetic & aggregation |\n"
   ]
  },
  {
   "cell_type": "markdown",
   "id": "fb1d9799",
   "metadata": {},
   "source": [
    "## 🚫 Bad Reasoning Prompts\n",
    "| Prompt | Domain / Task | Why GPT‑4o may be better |\n",
    "|---|---|---|\n",
    "| Write a whimsical poem about spring. | Creative Writing | Creativity > structured reasoning |\n",
    "| Generate 50 marketing slogans with emojis. | Copywriting | Fluency and style dominate |\n",
    "| Summarize this 30‑page PDF verbatim. | Long Doc Summarization | Need long‑context & compression |\n",
    "| Design a CSS theme based on neon cyberpunk. | Styling | Visual creativity task |\n",
    "| Draft a heartfelt apology letter. | Emotional Writing | Tone nuance, not logic |\n",
    "| Brainstorm viral TikTok ideas. | Social Media Ideation | Trend awareness |\n",
    "| Create a brand story in iambic pentameter. | Poetic Storytelling | Meter-focused creativity |\n",
    "| Translate informal chat to Shakespearean English. | Style Transfer | Style > reasoning |\n",
    "| Generate art prompts for anime landscapes. | Prompt Generation | Imagery creativity |\n",
    "| Compose a catchy jingle for coffee brand. | Music Lyrics | Rhyme & rhythm over logic |\n"
   ]
  },
  {
   "cell_type": "markdown",
   "id": "69cb8ccd",
   "metadata": {},
   "source": [
    "**Take‑away** – Match task type to model strengths. Reasoning models shine on structured logic; GPT‑family shines on creative/Ops writing."
   ]
  }
 ],
 "metadata": {},
 "nbformat": 4,
 "nbformat_minor": 5
}
