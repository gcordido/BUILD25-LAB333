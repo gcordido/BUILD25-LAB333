{
 "cells": [
  {
   "cell_type": "markdown",
   "id": "db300436",
   "metadata": {},
   "source": [
    "# Notebook 2: Prompting Practice 🚦  \n",
    "![Prompt Flow](https://source.unsplash.com/featured/?flowchart,code)\n",
    "\n",
    "**Outline**  \n",
    "1. Chain‑of‑Thought pattern  \n",
    "2. Self‑Critique pattern  \n",
    "3. Role‑Prompting pattern  \n",
    "\n",
    "### Citations  \n",
    "- Wei et al. (2022)  \n",
    "- Gontijo et al. (2023)  \n",
    "- OpenAI “Reasoning” Guide  \n"
   ]
  },
  {
   "cell_type": "markdown",
   "id": "df5ca36d",
   "metadata": {},
   "source": [
    "## Recipe 4 — Chain‑of‑Thought Prompting"
   ]
  },
  {
   "cell_type": "markdown",
   "id": "c410255b",
   "metadata": {},
   "source": [
    "### 1️⃣ What we’ll do\n",
    "Compare answers with and without explicit CoT directive."
   ]
  },
  {
   "cell_type": "code",
   "execution_count": null,
   "id": "268662f1",
   "metadata": {},
   "outputs": [],
   "source": [
    "q = \"If Jack leaves town at 3 PM driving 30 mph and Jill at 4 PM at 45 mph, when does Jill pass Jack?\"\n",
    "plain = pretty_chat_openai(\"o4-mini\", q)\n",
    "cot   = pretty_chat_openai(\"o4-mini\", \"Think step‑by‑step: \"+q)\n"
   ]
  },
  {
   "cell_type": "markdown",
   "id": "744af51c",
   "metadata": {},
   "source": [
    "**Take‑away** – CoT improves numeric accuracy.\n",
    "\n",
    "**Exercise:** try puzzle questions."
   ]
  },
  {
   "cell_type": "markdown",
   "id": "637b0dbc",
   "metadata": {},
   "source": [
    "## Recipe 5 — Self‑Critique Pattern"
   ]
  },
  {
   "cell_type": "code",
   "execution_count": null,
   "id": "07a1654d",
   "metadata": {},
   "outputs": [],
   "source": [
    "resp=pretty_chat_openai('o4-mini','Answer then critique: Why is the sky blue?')"
   ]
  },
  {
   "cell_type": "markdown",
   "id": "ed67546e",
   "metadata": {},
   "source": [
    "**Take‑away** – Reflection reduces hallucinations."
   ]
  },
  {
   "cell_type": "markdown",
   "id": "fa41a11c",
   "metadata": {},
   "source": [
    "## Recipe 6 — Role‑Prompting Pattern"
   ]
  },
  {
   "cell_type": "code",
   "execution_count": null,
   "id": "bb6ea984",
   "metadata": {},
   "outputs": [],
   "source": [
    "pretty_chat_openai(\n",
    "    'o1',\n",
    "    'You are a ruthless unit‑test generator. Return pytest code for a Fibonacci function.'\n",
    ")\n"
   ]
  },
  {
   "cell_type": "markdown",
   "id": "d1fee2d7",
   "metadata": {},
   "source": [
    "**Exercise:** add constraints like max‑lines=20."
   ]
  }
 ],
 "metadata": {
  "kernelspec": {
   "display_name": "Python 3",
   "language": "python",
   "name": "python3"
  },
  "language_info": {
   "codemirror_mode": {
    "name": "ipython",
    "version": 3
   },
   "file_extension": ".py",
   "mimetype": "text/x-python",
   "name": "python",
   "nbconvert_exporter": "python",
   "pygments_lexer": "ipython3",
   "version": "3.12.10"
  }
 },
 "nbformat": 4,
 "nbformat_minor": 5
}
